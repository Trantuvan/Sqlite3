{
 "cells": [
  {
   "cell_type": "code",
   "execution_count": 2,
   "metadata": {},
   "outputs": [],
   "source": [
    "class generate_sentece:\n",
    "    def __init__(self,subjects = None, verbs = None, objects = None):\n",
    "        if subjects is None:\n",
    "            self.subjects = []\n",
    "        else:\n",
    "            self.subjects = subjects\n",
    "        if verbs is None:\n",
    "            self.verbs = []\n",
    "        else:\n",
    "            self.verbs = verbs\n",
    "        if objects is None:\n",
    "            self.objects = []\n",
    "        else:\n",
    "            self.objects = objects"
   ]
  },
  {
   "cell_type": "code",
   "execution_count": 3,
   "metadata": {},
   "outputs": [],
   "source": [
    "import sqlite3\n",
    "\n",
    "class database(generate_sentece):\n",
    "    \n",
    "    def __init__(self,db_name,table_name,*args,**kwargs):\n",
    "        super().__init__(*args, **kwargs)\n",
    "        self.db_name = db_name\n",
    "        self.table_name = table_name\n",
    "        self.li = list(zip(self.subjects,self.verbs,self.objects))\n",
    "\n",
    "        \n",
    "    def createdb(self):\n",
    "        try:\n",
    "            conn = sqlite3.connect(self.db_name)\n",
    "            c = conn.cursor()\n",
    "        except ConnectionError:\n",
    "            print('We will be back...')\n",
    "        except Exception as e:\n",
    "            print('Something went wrong:', e)\n",
    "        return conn,c\n",
    "    \n",
    "    def createtable(self):\n",
    "        try:\n",
    "            conn,c = self.createdb()\n",
    "            with conn:\n",
    "                c.execute(\"\"\"CREATE TABLE {} (\n",
    "                                subject text,\n",
    "                                verb text,\n",
    "                                object text)\"\"\".format(self.table_name))\n",
    "            \n",
    "            print('{} created in database {} successed!'.format(self.table_name,self.db_name))\n",
    "\n",
    "        except Exception as e:\n",
    "            conn.rollback()\n",
    "            conn.close()\n",
    "            print('Connection to database closed!')\n",
    "            print('Exception occured: ',e)\n",
    "    \n",
    "    def insert_rec(self):\n",
    "        try:\n",
    "            conn,c = self.createdb()\n",
    "            with conn:\n",
    "                c.executemany(\"INSERT INTO {} VALUES (?,?,?)\".format(self.table_name), self.li)\n",
    "            \n",
    "            print('Value inserted successfully !')\n",
    "            \n",
    "        except Exception as e:\n",
    "            conn.rollback()\n",
    "            conn.close()\n",
    "            print('Connection to database closed!')\n",
    "            print('Exception occured: ',e)\n",
    "    \n",
    "    def select_from_table(self):\n",
    "        try:\n",
    "            conn,c = self.createdb()\n",
    "            c.execute(\"SELECT subject FROM {}\".format(self.table_name))\n",
    "            c.execute(\"SELECT verb FROM {}\".format(self.table_name))\n",
    "            c.execute(\"SELECT object FROM {}\".format(self.table_name))\n",
    "            return c.fetchall()\n",
    "        \n",
    "        except Exception as e:\n",
    "            conn.close()\n",
    "            print('Connection to database closed!')\n",
    "            print('Exception occured: ',e)"
   ]
  },
  {
   "cell_type": "code",
   "execution_count": 4,
   "metadata": {},
   "outputs": [],
   "source": [
    "c = generate_sentece(['Americans','Indias'],['play','watch'],['Baseball','Cricket'])"
   ]
  },
  {
   "cell_type": "code",
   "execution_count": null,
   "metadata": {},
   "outputs": [],
   "source": []
  }
 ],
 "metadata": {
  "kernelspec": {
   "display_name": "Python 3",
   "language": "python",
   "name": "python3"
  },
  "language_info": {
   "codemirror_mode": {
    "name": "ipython",
    "version": 3
   },
   "file_extension": ".py",
   "mimetype": "text/x-python",
   "name": "python",
   "nbconvert_exporter": "python",
   "pygments_lexer": "ipython3",
   "version": "3.8.6"
  }
 },
 "nbformat": 4,
 "nbformat_minor": 4
}
